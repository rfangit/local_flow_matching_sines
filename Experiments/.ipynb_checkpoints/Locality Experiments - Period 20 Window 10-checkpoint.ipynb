{
 "cells": [
  {
   "cell_type": "markdown",
   "id": "31b48957-8e8b-40fc-b11f-584f6d6c2333",
   "metadata": {},
   "source": [
    "In this notebook, we run experiments with different locality sizes.\n",
    "\n",
    "# Imports"
   ]
  },
  {
   "cell_type": "code",
   "execution_count": 1,
   "id": "8595ad42-1fa4-445a-a52f-db1af53180f3",
   "metadata": {},
   "outputs": [
    {
     "ename": "ModuleNotFoundError",
     "evalue": "No module named 'sine_funcs'",
     "output_type": "error",
     "traceback": [
      "\u001b[1;31m---------------------------------------------------------------------------\u001b[0m",
      "\u001b[1;31mModuleNotFoundError\u001b[0m                       Traceback (most recent call last)",
      "Cell \u001b[1;32mIn[1], line 13\u001b[0m\n\u001b[0;32m     11\u001b[0m sys\u001b[38;5;241m.\u001b[39mpath\u001b[38;5;241m.\u001b[39mappend(\u001b[38;5;28mstr\u001b[39m(parent_dir))\n\u001b[0;32m     12\u001b[0m \u001b[38;5;66;03m# Import modules\u001b[39;00m\n\u001b[1;32m---> 13\u001b[0m \u001b[38;5;28;01mfrom\u001b[39;00m \u001b[38;5;21;01msine_funcs\u001b[39;00m \u001b[38;5;28;01mimport\u001b[39;00m analyze_fft_results, create_phase_dataset\n\u001b[0;32m     14\u001b[0m \u001b[38;5;28;01mfrom\u001b[39;00m \u001b[38;5;21;01mdenoise_funcs\u001b[39;00m \u001b[38;5;28;01mimport\u001b[39;00m denoise_samples, multi_trajectory_animation, Local_Sine_Wave_Denoiser\n\u001b[0;32m     16\u001b[0m \u001b[38;5;66;03m# Set device (automatically detects GPU if available)\u001b[39;00m\n",
      "\u001b[1;31mModuleNotFoundError\u001b[0m: No module named 'sine_funcs'"
     ]
    }
   ],
   "source": [
    "import torch\n",
    "import matplotlib.pyplot as plt\n",
    "import numpy as np\n",
    "import math\n",
    "\n",
    "# Importing our existing flow funcs\n",
    "import os\n",
    "import sys\n",
    "from pathlib import Path\n",
    "parent_dir = Path.cwd().parent\n",
    "sys.path.append(str(parent_dir))\n",
    "# Import modules\n",
    "from sine_funcs import analyze_fft_results, create_phase_dataset\n",
    "from denoise_funcs import denoise_samples, multi_trajectory_animation, Local_Sine_Wave_Denoiser\n",
    "\n",
    "# Set device (automatically detects GPU if available)\n",
    "device = torch.device('cuda' if torch.cuda.is_available() else 'cpu')\n",
    "print(f\"Using device: {device}\")"
   ]
  },
  {
   "cell_type": "markdown",
   "id": "630d8c8e-e21f-4858-9e40-1a09e4bde970",
   "metadata": {},
   "source": [
    "## Data and Noise Generation"
   ]
  },
  {
   "cell_type": "code",
   "execution_count": null,
   "id": "4cc3c60c-4247-4fd8-8bec-03ae55207b2b",
   "metadata": {},
   "outputs": [],
   "source": [
    "# Function to create a dataset of sine waves of different phases\n",
    "# Takes in a list of phases, the width of the dataset, and the frequency\n",
    "# Create a tensor of shape [B, W] where B is number of phases, W is num_points\n",
    "def create_phase_dataset(phases, num_points=1000, points_per_cycle=40, device = 'cpu'):\n",
    "    dataset = torch.stack([generate_sine_wave(num_points, points_per_cycle, phase_offset=phase, device = device)\n",
    "        for phase in phases])\n",
    "    return dataset\n",
    "\n",
    "# Dataset generation\n",
    "num_points = 100 #points in a sample\n",
    "points_per_cycle = 20\n",
    "phases = [0]#, math.pi]#/4, math.pi/2, 3*math.pi/4]  # Example phase offsets\n",
    "dataset = create_phase_dataset(phases, num_points, points_per_cycle, device = device)\n",
    "\n",
    "# Load our dataset into an instance of local_sine_wave\n",
    "local_denoiser_dataset = Local_Sine_Wave_Denoiser(dataset, sigma_i = 1.0, device = device)"
   ]
  },
  {
   "cell_type": "code",
   "execution_count": null,
   "id": "de426793-e0be-4951-bf8e-bc0903e8321e",
   "metadata": {},
   "outputs": [],
   "source": [
    "# Noise Parameters\n",
    "num_noise_samples = 200  # Number of different noise samples to process\n",
    "noise_samples = torch.randn(size=(num_noise_samples, num_points), device=device)"
   ]
  },
  {
   "cell_type": "code",
   "execution_count": null,
   "id": "ebcaedd4-3ba9-450c-b9ef-0415376c3b53",
   "metadata": {},
   "outputs": [],
   "source": [
    "# Denoising Parameters\n",
    "num_steps = 10         # Number of denoising steps\n",
    "dt = 1.0 / num_steps\n",
    "local_size = 10\n",
    "\n",
    "# Shape: [num_noise_samples, num_steps+1, num_points]\n",
    "locality_sizes = torch.full((num_steps,), local_size, device=device) #for each step, use a local window of 100 points."
   ]
  },
  {
   "cell_type": "markdown",
   "id": "61e4e542-e499-4f96-93ea-a786bec49ca9",
   "metadata": {},
   "source": [
    "## Denoising"
   ]
  },
  {
   "cell_type": "code",
   "execution_count": null,
   "id": "094b19e3-a0a2-439a-af8a-65ca189ba7ed",
   "metadata": {},
   "outputs": [],
   "source": [
    "trajectories = denoise_samples(\n",
    "    noise_samples=noise_samples,\n",
    "    local_denoiser_dataset=local_denoiser_dataset,\n",
    "    num_steps=10,\n",
    "    locality_sizes=locality_sizes,  # Constant window size\n",
    "    dt=dt,\n",
    "    device='cuda'\n",
    ")"
   ]
  },
  {
   "cell_type": "code",
   "execution_count": null,
   "id": "a8f4eff4-0b01-41c7-9c00-c77bdeadde76",
   "metadata": {},
   "outputs": [],
   "source": [
    "anim = multi_trajectory_animation(trajectories, dataset=dataset)\n",
    "\n",
    "# To display in Jupyter notebook:\n",
    "from IPython.display import HTML\n",
    "HTML(anim.to_jshtml())"
   ]
  },
  {
   "cell_type": "code",
   "execution_count": null,
   "id": "5cef2e9b-6da2-4edf-bae5-750e2231380d",
   "metadata": {},
   "outputs": [],
   "source": [
    "analyze_fft_results(trajectories[:, -1, :], title_suffix=\"(Denoised Results)\")"
   ]
  },
  {
   "cell_type": "markdown",
   "id": "19284bff-34fe-4cc0-83e6-2c55073c4068",
   "metadata": {},
   "source": [
    "## Multiple Frequencies"
   ]
  },
  {
   "cell_type": "code",
   "execution_count": null,
   "id": "50a2179e-7404-45c4-bf15-5db47e941cb5",
   "metadata": {},
   "outputs": [],
   "source": [
    "# Dataset generation\n",
    "num_points = 200 #points in a sample\n",
    "points_per_cycle = 20\n",
    "phases = [0, math.pi/4, math.pi/2, 3*math.pi/4]  # Example phase offsets\n",
    "dataset = create_phase_dataset(phases, num_points, points_per_cycle, device = device)\n",
    "\n",
    "# Load our dataset into an instance of local_sine_wave\n",
    "local_denoiser_dataset = Local_Sine_Wave_Denoiser(dataset, sigma_i = 1.0, device = device)"
   ]
  },
  {
   "cell_type": "code",
   "execution_count": null,
   "id": "6ebe3125-8d32-406a-9805-4d897fa078de",
   "metadata": {},
   "outputs": [],
   "source": [
    "trajectories = denoise_samples(\n",
    "    noise_samples=noise_samples,\n",
    "    local_denoiser_dataset=local_denoiser_dataset,\n",
    "    num_steps=10,\n",
    "    locality_sizes=locality_sizes,  # Constant window size\n",
    "    dt=dt,\n",
    "    device='cuda'\n",
    ")"
   ]
  },
  {
   "cell_type": "code",
   "execution_count": null,
   "id": "e3a48259-d833-4817-9e55-610cf42c62a3",
   "metadata": {},
   "outputs": [],
   "source": [
    "analyze_fft_results(trajectories[:, -1, :], title_suffix=\"(Denoised Results)\")\n",
    "anim = multi_trajectory_animation(trajectories, dataset=dataset)\n",
    "\n",
    "# To display in Jupyter notebook:\n",
    "from IPython.display import HTML\n",
    "HTML(anim.to_jshtml())"
   ]
  }
 ],
 "metadata": {
  "kernelspec": {
   "display_name": "Python (diffusion-env)",
   "language": "python",
   "name": "diffusion-env"
  },
  "language_info": {
   "codemirror_mode": {
    "name": "ipython",
    "version": 3
   },
   "file_extension": ".py",
   "mimetype": "text/x-python",
   "name": "python",
   "nbconvert_exporter": "python",
   "pygments_lexer": "ipython3",
   "version": "3.12.6"
  }
 },
 "nbformat": 4,
 "nbformat_minor": 5
}
